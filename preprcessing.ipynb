{
 "cells": [
  {
   "cell_type": "markdown",
   "id": "5d3dc689",
   "metadata": {},
   "source": [
    "## Importing "
   ]
  },
  {
   "cell_type": "code",
   "execution_count": null,
   "id": "08e5cc71",
   "metadata": {},
   "outputs": [],
   "source": [
    "import pandas as pd\n",
    "import numpy as np\n",
    "import matplotlib.pyplot as plt\n",
    "import sklearn\n",
    "import seaborn as sns\n",
    "from sklearn.preprocessing import StandardScaler\n",
    "from sklearn.cluster import KMeans\n",
    "from sklearn.decomposition import PCA\n",
    "from mpl_toolkits.mplot3d import Axes3D\n",
    "import warnings\n",
    "warnings.filterwarnings(\"ignore\", module=\"matplotlib\")\n",
    "from sklearn.metrics import silhouette_score\n",
    "\n",
    "from scipy.cluster.hierarchy import linkage, dendrogram\n",
    "from scipy.cluster.hierarchy import fcluster\n",
    "from sklearn.manifold import TSNE\n",
    "from sklearn.model_selection import train_test_split"
   ]
  },
  {
   "cell_type": "markdown",
   "id": "4f0afd54",
   "metadata": {},
   "source": [
    "## Examing"
   ]
  },
  {
   "cell_type": "code",
   "execution_count": null,
   "id": "b2574857",
   "metadata": {
    "scrolled": true
   },
   "outputs": [],
   "source": [
    "df = pd.read_csv(\"./data/bank-full.csv\")\n",
    "df.head()"
   ]
  },
  {
   "cell_type": "code",
   "execution_count": null,
   "id": "2ad7d574",
   "metadata": {},
   "outputs": [],
   "source": [
    "df.shape"
   ]
  },
  {
   "cell_type": "code",
   "execution_count": null,
   "id": "d597ec08",
   "metadata": {
    "scrolled": true
   },
   "outputs": [],
   "source": [
    "has_null = df.isnull().any().any()\n",
    "has_null"
   ]
  },
  {
   "cell_type": "code",
   "execution_count": null,
   "id": "453ffcb5",
   "metadata": {},
   "outputs": [],
   "source": [
    "corr = df.corr()\n",
    "plt.figure(figsize=(10, 8))\n",
    "sns.heatmap(corr, annot=True, fmt=\".2f\", linewidths=.5, cmap='RdYlBu_r')\n",
    "plt.show()"
   ]
  },
  {
   "cell_type": "markdown",
   "id": "6b3226ab",
   "metadata": {},
   "source": [
    "## Transformers"
   ]
  },
  {
   "cell_type": "code",
   "execution_count": null,
   "id": "32c39fd6",
   "metadata": {},
   "outputs": [],
   "source": [
    "def encode_categorical(df_orginal, reverse=False):\n",
    "    df = df_orginal.copy(deep=True)\n",
    "    \n",
    "    months = ['jan', 'feb', 'mar', 'apr', 'may', 'jun', 'jul', 'aug', 'sep', 'oct', 'nov', 'dec']\n",
    "    month_num = {months[i]: i+1 for i in range(len(months))}\n",
    "    month_num_reverse = {i+1: months[i] for i in range(len(months))}\n",
    "    \n",
    "    edu_num = {'tertiary':2, 'secondary':1, 'unknown':-1, 'primary':0}\n",
    "    edu_num_reverse = {v: k for k, v in edu_num.items()}\n",
    "    \n",
    "    marital_num = {'single':0, 'married':1, 'divorced':2}\n",
    "    marital_num_reverse = {v: k for k, v in marital_num.items()}\n",
    "    \n",
    "    # Encoding for binary columns\n",
    "    binary_num = {\"no\":0 ,\"yes\":1}\n",
    "    binary_num_reverse = {v: k for k, v in binary_num.items()}\n",
    "    \n",
    "    binaries = [col for col in df.columns if set(df[col].unique()) in [{\"yes\", \"no\"}, {0, 1}]]\n",
    "\n",
    "    if reverse:\n",
    "        df[\"month\"] = df[\"month\"].map(month_num_reverse)\n",
    "        df[\"education\"] = df[\"education\"].map(edu_num_reverse)\n",
    "        df[\"marital\"] = df[\"marital\"].map(marital_num_reverse)\n",
    "        df[binaries] = df[binaries].apply(lambda x: x.map(binary_num_reverse))\n",
    "        \n",
    "    else:\n",
    "        df[\"month\"] = df[\"month\"].map(month_num)\n",
    "        df[\"education\"] = df[\"education\"].map(edu_num)\n",
    "        df[\"marital\"] = df[\"marital\"].map(marital_num)\n",
    "        df[binaries] = df[binaries].apply(lambda x: x.map(binary_num))\n",
    "    \n",
    "    df.columns = df.columns.str.replace('.', ' ') \n",
    "    non_numeric_cols = df.select_dtypes(exclude=[np.number]).columns\n",
    "    if len(non_numeric_cols) == 0:\n",
    "        print(\"All columns numeric\")\n",
    "    else:\n",
    "        print(\"Non-numeric columns are: \", non_numeric_cols)\n",
    "    \n",
    "    return df"
   ]
  },
  {
   "cell_type": "code",
   "execution_count": null,
   "id": "dcf8b17a",
   "metadata": {},
   "outputs": [],
   "source": [
    "def calculate_woe(df, feature, target):\n",
    "    total_events = df[target].sum()\n",
    "    total_non_events = df.shape[0] - total_events\n",
    "\n",
    "    groups = df.groupby(feature)[target].agg(['sum', 'count'])\n",
    "    groups.columns = ['events', 'non_events']\n",
    "\n",
    "    groups['events_rate'] = groups['events'] / total_events\n",
    "    groups['non_events_rate'] = groups['non_events'] / total_non_events\n",
    "\n",
    "    groups['woe'] = np.log(groups['events_rate'] / groups['non_events_rate'])\n",
    "    groups['iv'] = (groups['events_rate'] - groups['non_events_rate']) * groups['woe']\n",
    "    \n",
    "    woe_dict = groups['woe'].to_dict()\n",
    "    iv = groups['iv'].sum()\n",
    "    \n",
    "    return woe_dict, iv\n"
   ]
  },
  {
   "cell_type": "code",
   "execution_count": null,
   "id": "d9e9e2eb",
   "metadata": {},
   "outputs": [],
   "source": [
    "def encode_woe(df, cols=df.columns.tolist(), target=\"y\"):\n",
    "    df = df.copy(deep=True)\n",
    "    ivs = {}\n",
    "    woe_dicts = {}\n",
    "    for col in cols:\n",
    "        woe_dict, iv = calculate_woe(df, col, target)\n",
    "        ivs[col] = iv\n",
    "        woe_dicts[col] = woe_dict\n",
    "        df[col] = df[col].apply(lambda x: woe_dict.get(x, 0))\n",
    "        \n",
    "    return df, woe_dicts, ivs"
   ]
  },
  {
   "cell_type": "code",
   "execution_count": null,
   "id": "83d3964b",
   "metadata": {},
   "outputs": [],
   "source": [
    "def scaling(df, scaler=StandardScaler()):\n",
    "    X_scaled = scaler.fit_transform(df)\n",
    "    df_scaled = pd.DataFrame(X_scaled, columns=df.columns)\n",
    "    return df_scaled, scaler"
   ]
  },
  {
   "cell_type": "code",
   "execution_count": null,
   "id": "c904e24d",
   "metadata": {},
   "outputs": [],
   "source": [
    "df_e = encode_categorical(df)"
   ]
  },
  {
   "cell_type": "code",
   "execution_count": null,
   "id": "b21026e7",
   "metadata": {},
   "outputs": [],
   "source": [
    "df_e.head()"
   ]
  },
  {
   "cell_type": "code",
   "execution_count": null,
   "id": "e062ff7a",
   "metadata": {},
   "outputs": [],
   "source": [
    "# instead of one-hot encoding to not extend dataframe\n",
    "df_woe, woe_dicts, ivs = encode_woe(df_e, [\"job\", \"poutcome\", \"contact\"], \"y\")"
   ]
  },
  {
   "cell_type": "code",
   "execution_count": null,
   "id": "ebf8ad1a",
   "metadata": {},
   "outputs": [],
   "source": [
    "df_woe.head()"
   ]
  },
  {
   "cell_type": "code",
   "execution_count": null,
   "id": "a4fe173b",
   "metadata": {
    "scrolled": false
   },
   "outputs": [],
   "source": [
    "non_hot = [col for col in df_woe.columns if \"_\" not in col]\n",
    "df_woe[non_hot].boxplot(vert=False)\n",
    "plt.show()"
   ]
  },
  {
   "cell_type": "code",
   "execution_count": null,
   "id": "6fd5b803",
   "metadata": {},
   "outputs": [],
   "source": [
    "df_scaled, scaler = scaling(df_woe)"
   ]
  },
  {
   "cell_type": "code",
   "execution_count": null,
   "id": "786fb075",
   "metadata": {},
   "outputs": [],
   "source": [
    "df_scaled"
   ]
  },
  {
   "cell_type": "markdown",
   "id": "b2a45f2b",
   "metadata": {},
   "source": [
    "## K-means clustering method scaled data"
   ]
  },
  {
   "cell_type": "code",
   "execution_count": null,
   "id": "f1c39517",
   "metadata": {},
   "outputs": [],
   "source": [
    "def pca(p_df):\n",
    "    # Apply PCA\n",
    "    pca = PCA(n_components=0.8)   # 0.8 means 80% variance\n",
    "    principalComponents = pca.fit_transform(p_df)\n",
    "    df_r = pd.DataFrame(principalComponents, columns = ['principal_' + str(i) for i in range(1, pca.n_components_ + 1)])\n",
    "\n",
    "    # Check the number of components\n",
    "    print(\"Number of components = \", pca.n_components_)\n",
    "\n",
    "    # Check the explained variance ratio\n",
    "    print(\"Explained variance ratio = \", sum(pca.explained_variance_ratio_))\n",
    "    \n",
    "    return df_r"
   ]
  },
  {
   "cell_type": "code",
   "execution_count": null,
   "id": "f48122e1",
   "metadata": {},
   "outputs": [],
   "source": [
    "def count_wcss_scores(p_df, p_k):\n",
    "    kmeans = KMeans(n_clusters = p_k, random_state = 0)\n",
    "    kmeans.fit(p_df)\n",
    "    return kmeans.score(p_df) * -1 # score returns -WCSS"
   ]
  },
  {
   "cell_type": "code",
   "execution_count": null,
   "id": "d3a9dfba",
   "metadata": {},
   "outputs": [],
   "source": [
    "def count_clustering_scores(p_df, p_cluster_num, p_model, p_score_fun):\n",
    "    if isinstance(p_cluster_num, int):\n",
    "        cluster_num_iter = [p_cluster_num]\n",
    "    else:\n",
    "        cluster_num_iter = p_cluster_num\n",
    "        \n",
    "    scores = []    \n",
    "    for k in cluster_num_iter:\n",
    "        model_instance = p_model(n_clusters = k)\n",
    "        labels = model_instance.fit_predict(p_df)\n",
    "        wcss = p_score_fun(p_df, labels)\n",
    "        scores.append(wcss)\n",
    "    \n",
    "    if isinstance(p_cluster_num, int):\n",
    "        return scores[0]\n",
    "    else:\n",
    "        return scores"
   ]
  },
  {
   "cell_type": "code",
   "execution_count": null,
   "id": "46489695",
   "metadata": {
    "scrolled": false
   },
   "outputs": [],
   "source": [
    "def draw_elbow_wcss(p_df, p_k_max):\n",
    "    cluster_num_seq = range(1, p_k_max)\n",
    "    wcss_scores = count_clustering_scores(p_df, cluster_num_seq, KMeans, count_wcss_scores)\n",
    "    plt.plot(cluster_num_seq, wcss_scores, 'bx-')\n",
    "    plt.xlabel('k')\n",
    "    plt.ylabel('wcss score')\n",
    "    plt.title('The Elbow Method showing the optimal k')\n",
    "    plt.show()"
   ]
  },
  {
   "cell_type": "code",
   "execution_count": null,
   "id": "a50e7b8a",
   "metadata": {},
   "outputs": [],
   "source": [
    "def draw_elbow_shil(p_df, p_k_max):\n",
    "    cluster_num_seq = range(2, p_k_max)\n",
    "    silhouette_vec = count_clustering_scores(p_df, cluster_num_seq, KMeans, silhouette_score)\n",
    "    plt.plot(cluster_num_seq, silhouette_vec, 'bx-')\n",
    "    plt.xlabel('k')\n",
    "    plt.ylabel('Silhouette score')\n",
    "    plt.title('The Elbow Method showing the optimal k')\n",
    "    plt.show()"
   ]
  },
  {
   "cell_type": "code",
   "execution_count": null,
   "id": "a88c5358",
   "metadata": {
    "scrolled": false
   },
   "outputs": [],
   "source": [
    "def cluster_KMeans(p_df, p_n_clusters):\n",
    "    kmeans = KMeans(n_clusters = p_n_clusters, random_state = 0)\n",
    "\n",
    "    # Fit the KMeans model to the data\n",
    "    kmeans.fit(p_df)\n",
    "\n",
    "    # Get the cluster assignments for each data point\n",
    "    labels = kmeans.labels_\n",
    "\n",
    "    # If you want to add the cluster labels back into your DataFrame\n",
    "    p_df['cluster'] = labels\n",
    "\n",
    "    print('Inertia:', kmeans.inertia_)"
   ]
  },
  {
   "cell_type": "code",
   "execution_count": null,
   "id": "71ed5dd2",
   "metadata": {},
   "outputs": [],
   "source": [
    "df_principal = pca(df_scaled)"
   ]
  },
  {
   "cell_type": "code",
   "execution_count": null,
   "id": "b59465e5",
   "metadata": {},
   "outputs": [],
   "source": [
    "# draw_elbow_wcss(df_principal, 50)"
   ]
  },
  {
   "cell_type": "code",
   "execution_count": null,
   "id": "3ff917fe",
   "metadata": {},
   "outputs": [],
   "source": [
    "# draw_elbow_shil(df_principal, 50)"
   ]
  },
  {
   "cell_type": "code",
   "execution_count": null,
   "id": "75807f79",
   "metadata": {
    "scrolled": false
   },
   "outputs": [],
   "source": [
    "cluster_KMeans(df_principal, 13)\n",
    "df_c = df.copy(deep = True)\n",
    "df_c['cluster'] = df_principal['cluster']"
   ]
  },
  {
   "cell_type": "markdown",
   "id": "4852d03b",
   "metadata": {},
   "source": [
    "## K-means clustering analysys"
   ]
  },
  {
   "cell_type": "code",
   "execution_count": null,
   "id": "1ec59e11",
   "metadata": {},
   "outputs": [],
   "source": [
    "fig = plt.figure(figsize=(10, 7))\n",
    "ax = fig.add_subplot(111, projection='3d')\n",
    "\n",
    "sc = ax.scatter(df_c['balance'], df_c['age'], df_c['duration'],   c=df_c['cluster'], alpha=0.6, edgecolors='w', s=80)\n",
    "\n",
    "ax.set_xlabel('Balance')\n",
    "ax.set_ylabel('Age')\n",
    "ax.set_zlabel('Duration')\n",
    "\n",
    "plt.colorbar(sc, label='cluster')  # Show color scale\n",
    "plt.title('3D scatter plot of Age, Duration, and Balance')\n",
    "plt.show()"
   ]
  },
  {
   "cell_type": "code",
   "execution_count": null,
   "id": "4300f2fd",
   "metadata": {},
   "outputs": [],
   "source": [
    "df_means = df_c.groupby('cluster')[['balance', 'age', 'duration']].median()\n",
    "fig = plt.figure(figsize=(10, 7))\n",
    "ax = fig.add_subplot(111, projection='3d')\n",
    "\n",
    "# Get cluster labels and use as colors\n",
    "clusters = df_means.index\n",
    "colors = plt.cm.rainbow(np.linspace(0, 1, len(clusters)))\n",
    "\n",
    "for cluster, color in zip(clusters, colors):\n",
    "    ax.scatter(df_means.loc[cluster, 'balance'], df_means.loc[cluster, 'age'], df_means.loc[cluster, 'duration'], color=color, alpha=0.6, edgecolors='w', s=80, label='Cluster {}'.format(cluster))\n",
    "    ax.text(df_means.loc[cluster, 'balance'], df_means.loc[cluster, 'age'], df_means.loc[cluster, 'duration'], '%s' % (str(cluster)), size=10, zorder=1, color='k')\n",
    "\n",
    "ax.set_xlabel('Median Balance')\n",
    "ax.set_ylabel('Median Age')\n",
    "ax.set_zlabel('Median Duration')\n",
    "\n",
    "plt.legend()\n",
    "plt.title('3D scatter plot of median Age, Duration, and Balance per cluster')\n",
    "plt.show()"
   ]
  },
  {
   "cell_type": "code",
   "execution_count": null,
   "id": "fc24679b",
   "metadata": {
    "scrolled": true
   },
   "outputs": [],
   "source": [
    "# Get the most common jobs for each cluster\n",
    "top_jobs = df_c.groupby('cluster')['job'].apply(lambda x: x.value_counts().nlargest(3))\n",
    "\n",
    "# Convert the multi-index series to a dataframe\n",
    "top_jobs_df = top_jobs.reset_index()\n",
    "\n",
    "# Rename columns\n",
    "top_jobs_df.columns = ['cluster', 'job', 'count']\n",
    "\n",
    "# View the DataFrame\n",
    "top_jobs_df.head()"
   ]
  },
  {
   "cell_type": "code",
   "execution_count": null,
   "id": "42621299",
   "metadata": {
    "scrolled": true
   },
   "outputs": [],
   "source": [
    "import matplotlib.pyplot as plt\n",
    "\n",
    "# Get unique jobs and clusters\n",
    "unique_jobs = top_jobs_df['job'].unique()\n",
    "unique_clusters = top_jobs_df['cluster'].unique()\n",
    "\n",
    "# Set up the figure and axis\n",
    "fig, ax = plt.subplots(figsize=(12, 8))\n",
    "\n",
    "# Create a bar for each job\n",
    "for idx, job in enumerate(unique_jobs):\n",
    "    # Get the counts for each cluster for the current job\n",
    "    counts = top_jobs_df[top_jobs_df['job'] == job]['count']\n",
    "    clusters = top_jobs_df[top_jobs_df['job'] == job]['cluster']\n",
    "\n",
    "    # Create a bar for each cluster\n",
    "    for cluster_idx, count in enumerate(counts):\n",
    "        # If this is the first cluster, create the base of the bar\n",
    "        if cluster_idx == 0:\n",
    "            bar = ax.bar(idx, count)\n",
    "        # If this is not the first cluster, add to the existing bar\n",
    "        else:\n",
    "            bar = ax.bar(idx, count, bottom=counts.iloc[:cluster_idx].sum())\n",
    "\n",
    "        # Add the cluster number to the bar segment\n",
    "        height = counts.iloc[:cluster_idx+1].sum()\n",
    "        ax.text(idx, height - count/2, f'CL:{clusters.iloc[cluster_idx]}', ha='center', va='center', color='white')\n",
    "\n",
    "# Set up the x-axis\n",
    "ax.set_xticks(range(len(unique_jobs)))\n",
    "ax.set_xticklabels(unique_jobs, rotation=90)\n",
    "\n",
    "# Add labels and title\n",
    "ax.set_ylabel('Count')\n",
    "ax.set_xlabel('Job')\n",
    "ax.set_title('Cluster distribution for each job')\n",
    "\n",
    "plt.show()"
   ]
  },
  {
   "cell_type": "code",
   "execution_count": null,
   "id": "14212034",
   "metadata": {},
   "outputs": [],
   "source": [
    "cluster_details = {\n",
    "    0: \"old_low_balance_retired\",\n",
    "    1: \"housemaid\",\n",
    "    2: \"middle_low_balance\",\n",
    "    3: \"young_low_balance\",\n",
    "    4: \"admin_management\",\n",
    "    5: \"long_duration\",\n",
    "    6: 6,\n",
    "    7: 7,\n",
    "    8: \"students\",\n",
    "    9: 8,\n",
    "    10: 10,\n",
    "    11:\"high_balance\",\n",
    "    12: 12,\n",
    "}"
   ]
  },
  {
   "cell_type": "markdown",
   "id": "c32b5ed1",
   "metadata": {},
   "source": [
    "## hierarchy clustering"
   ]
  },
  {
   "cell_type": "code",
   "execution_count": null,
   "id": "a8e052b8",
   "metadata": {},
   "outputs": [],
   "source": [
    "# my computer cannot operate on so many rows\n",
    "df_reduced, _ = train_test_split(df, train_size=0.1, shuffle=True)"
   ]
  },
  {
   "cell_type": "code",
   "execution_count": null,
   "id": "76b308ef",
   "metadata": {},
   "outputs": [],
   "source": [
    "df_reduced.head()"
   ]
  },
  {
   "cell_type": "code",
   "execution_count": null,
   "id": "efc83ba4",
   "metadata": {},
   "outputs": [],
   "source": [
    "df_reduced.shape"
   ]
  },
  {
   "cell_type": "code",
   "execution_count": null,
   "id": "e2d91f14",
   "metadata": {},
   "outputs": [],
   "source": [
    "def c_dendrogram(p_df, p_method):\n",
    "    mergings = linkage(p_df, method=p_method)\n",
    "    dendrogram(mergings, leaf_rotation=90, leaf_font_size=2)\n",
    "    plt.show()\n",
    "    \n",
    "    return mergings"
   ]
  },
  {
   "cell_type": "code",
   "execution_count": null,
   "id": "dc96803c",
   "metadata": {},
   "outputs": [],
   "source": [
    "def c_labels(p_mergings, p_fcluster_level):\n",
    "    return fcluster(p_mergings, p_fcluster_level, criterion='distance')"
   ]
  },
  {
   "cell_type": "code",
   "execution_count": null,
   "id": "5b02be5c",
   "metadata": {},
   "outputs": [],
   "source": [
    "def c_tsne(p_df, columns):\n",
    "    for columns in columns:\n",
    "        print(f\"COLUMN '{columns}'\")\n",
    "        model_2d = TSNE(learning_rate=200)\n",
    "        transformed = model_2d.fit_transform(p_df)\n",
    "        xs = transformed[:, 0]\n",
    "        ys = transformed[:, 1]\n",
    "        plt.scatter(xs, ys, c=p_df[columns])\n",
    "        plt.show()\n",
    "\n",
    "        model_3d = TSNE(n_components=3, learning_rate=200)\n",
    "        transformed = model_3d.fit_transform(p_df)\n",
    "        xs = transformed[:, 0]\n",
    "        ys = transformed[:, 1]\n",
    "        zs = transformed[:, 2]\n",
    "        fig = plt.figure()\n",
    "        ax = fig.add_subplot(projection='3d')\n",
    "        sc = ax.scatter(xs, ys, zs, c=p_df[columns], alpha=0.6, edgecolors='w')\n",
    "        plt.colorbar(sc, label='cluster')\n",
    "        plt.show()\n",
    "        print()\n"
   ]
  },
  {
   "cell_type": "code",
   "execution_count": null,
   "id": "52bcf458",
   "metadata": {},
   "outputs": [],
   "source": [
    "df"
   ]
  },
  {
   "cell_type": "code",
   "execution_count": null,
   "id": "e78013d4",
   "metadata": {},
   "outputs": [],
   "source": [
    "merg_complete = c_dendrogram(df_n, 'complete')"
   ]
  },
  {
   "cell_type": "code",
   "execution_count": null,
   "id": "dbdefd46",
   "metadata": {},
   "outputs": [],
   "source": [
    "df[\"labels_complete\"] = c_labels(merg_complete, 10.5)"
   ]
  },
  {
   "cell_type": "code",
   "execution_count": null,
   "id": "bbaf4dcc",
   "metadata": {},
   "outputs": [],
   "source": [
    "merg_single = c_dendrogram(df_n, 'single')"
   ]
  },
  {
   "cell_type": "code",
   "execution_count": null,
   "id": "c0040f07",
   "metadata": {},
   "outputs": [],
   "source": [
    "df[\"labels_single\"] = c_labels(merg_single, 5.5)"
   ]
  },
  {
   "cell_type": "code",
   "execution_count": null,
   "id": "e791bd7c",
   "metadata": {},
   "outputs": [],
   "source": [
    "merg_average = c_dendrogram(df_n, 'average')"
   ]
  },
  {
   "cell_type": "code",
   "execution_count": null,
   "id": "030b3575",
   "metadata": {},
   "outputs": [],
   "source": [
    "df[\"labels_average\"] = c_labels(merg_average, 7.75)"
   ]
  },
  {
   "cell_type": "code",
   "execution_count": null,
   "id": "30bb59a2",
   "metadata": {},
   "outputs": [],
   "source": [
    "merg_weighted = c_dendrogram(df_n, 'weighted')"
   ]
  },
  {
   "cell_type": "code",
   "execution_count": null,
   "id": "1c029249",
   "metadata": {},
   "outputs": [],
   "source": [
    "df[\"labels_weighted\"] = c_labels(merg_weighted, 8)"
   ]
  },
  {
   "cell_type": "code",
   "execution_count": null,
   "id": "78c5f117",
   "metadata": {},
   "outputs": [],
   "source": [
    "merg_centroid = c_dendrogram(df_n, 'centroid')"
   ]
  },
  {
   "cell_type": "code",
   "execution_count": null,
   "id": "d7760582",
   "metadata": {},
   "outputs": [],
   "source": [
    "df[\"labels_centroid\"] = c_labels(merg_centroid, 6)"
   ]
  },
  {
   "cell_type": "code",
   "execution_count": null,
   "id": "c916e268",
   "metadata": {},
   "outputs": [],
   "source": [
    "merg_median = c_dendrogram(df_n, 'median')"
   ]
  },
  {
   "cell_type": "code",
   "execution_count": null,
   "id": "ac8cd7fa",
   "metadata": {},
   "outputs": [],
   "source": [
    "df_scaled[\"labels_median\"] = c_labels(merg_median, 6)"
   ]
  },
  {
   "cell_type": "code",
   "execution_count": null,
   "id": "79c28e5b",
   "metadata": {},
   "outputs": [],
   "source": [
    "merg_ward = c_dendrogram(df_n, 'ward')"
   ]
  },
  {
   "cell_type": "code",
   "execution_count": null,
   "id": "8a25fdaa",
   "metadata": {},
   "outputs": [],
   "source": [
    "df_scaled[\"labels_ward\"] = c_labels(merg_ward, 15)"
   ]
  },
  {
   "cell_type": "code",
   "execution_count": null,
   "id": "5a085d01",
   "metadata": {},
   "outputs": [],
   "source": [
    "c_tsne(df_scaled, [\"labels_complete\",\n",
    "                   \"labels_single\",\n",
    "                   \"labels_average\",\n",
    "                   \"labels_weighted\",\n",
    "                   \"labels_centroid\",\n",
    "                   \"labels_median\", \n",
    "                   \"labels_ward\"])"
   ]
  },
  {
   "cell_type": "code",
   "execution_count": null,
   "id": "b1fafcf9",
   "metadata": {},
   "outputs": [],
   "source": [
    "labels = [column for column in df_scaled.columns if column.startswith(\"labels_\")]"
   ]
  },
  {
   "cell_type": "code",
   "execution_count": null,
   "id": "7397f6b7",
   "metadata": {},
   "outputs": [],
   "source": [
    "for label in labels:\n",
    "    print(f'in \"{label}\" column are {len(df_scaled[label].unique())} clusters')"
   ]
  }
 ],
 "metadata": {
  "kernelspec": {
   "display_name": "Python 3 (ipykernel)",
   "language": "python",
   "name": "python3"
  },
  "language_info": {
   "codemirror_mode": {
    "name": "ipython",
    "version": 3
   },
   "file_extension": ".py",
   "mimetype": "text/x-python",
   "name": "python",
   "nbconvert_exporter": "python",
   "pygments_lexer": "ipython3",
   "version": "3.9.13"
  }
 },
 "nbformat": 4,
 "nbformat_minor": 5
}
