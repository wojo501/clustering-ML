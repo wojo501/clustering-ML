{
 "cells": [
  {
   "cell_type": "code",
   "execution_count": 4,
   "id": "799e16c2",
   "metadata": {},
   "outputs": [],
   "source": [
    "import pandas as pd\n",
    "import numpy as np\n",
    "import matplotlib.pyplot as plt\n",
    "import sklearn\n",
    "import seaborn as sns\n",
    "from sklearn.preprocessing import StandardScaler\n",
    "from sklearn.cluster import KMeans\n",
    "from sklearn.decomposition import PCA\n",
    "from mpl_toolkits.mplot3d import Axes3D\n",
    "import warnings\n",
    "warnings.filterwarnings(\"ignore\", module=\"matplotlib\")\n",
    "from sklearn.metrics import silhouette_score\n",
    "\n",
    "from scipy.cluster.hierarchy import linkage, dendrogram\n",
    "from scipy.cluster.hierarchy import fcluster\n",
    "from sklearn.manifold import TSNE\n",
    "from sklearn.model_selection import train_test_split\n",
    "from sklearn.ensemble import RandomForestClassifier\n",
    "import numpy as np"
   ]
  },
  {
   "cell_type": "code",
   "execution_count": 8,
   "id": "76af5ddf",
   "metadata": {},
   "outputs": [
    {
     "name": "stdout",
     "output_type": "stream",
     "text": [
      "   y  salary  duration\n",
      "0  0   50389         8\n",
      "1  0   74407         1\n",
      "2  0   76595         3\n",
      "3  1   64514         5\n",
      "4  0   55390         4\n",
      "5  1   60662         8\n",
      "6  0   43529         5\n",
      "7  0   65488         1\n",
      "8  0   45703         7\n",
      "9  1   43686         9\n"
     ]
    }
   ],
   "source": [
    "# Create a dictionary with dummy data\n",
    "data = {\n",
    "    'y': np.random.randint(0, 2, size=10),  # Random binary values for 'y'\n",
    "    'salary': np.random.randint(20000, 80001, size=10),  # Random salary values between 20000 and 80000\n",
    "    'duration': np.random.randint(1, 11, size=10)  # Random duration values between 1 and 10\n",
    "}\n",
    "\n",
    "# Create the DataFrame\n",
    "df = pd.DataFrame(data)\n",
    "\n",
    "# Print the DataFrame\n",
    "print(df)"
   ]
  },
  {
   "cell_type": "code",
   "execution_count": 9,
   "id": "feeb8127",
   "metadata": {},
   "outputs": [
    {
     "data": {
      "text/plain": [
       "RandomForestClassifier()"
      ]
     },
     "execution_count": 9,
     "metadata": {},
     "output_type": "execute_result"
    }
   ],
   "source": [
    "y_train = df[\"y\"]\n",
    "X_train = df.drop(\"y\", axis=\"columns\")\n",
    "rf_classifier = RandomForestClassifier()\n",
    "rf_classifier.fit(X_train, y_train)"
   ]
  },
  {
   "cell_type": "code",
   "execution_count": 13,
   "id": "6e9cb140",
   "metadata": {},
   "outputs": [
    {
     "name": "stdout",
     "output_type": "stream",
     "text": [
      "Feature ranking:\n",
      "1. Feature 0: 0.5200021769876334\n",
      "2. Feature 1: 0.4799978230123666\n"
     ]
    }
   ],
   "source": [
    "feature_importances = rf_classifier.feature_importances_\n",
    "indices = np.argsort(feature_importances)[::-1]\n",
    "print(\"Feature ranking:\")\n",
    "for f in range(X_train.shape[1]):\n",
    "    print(f\"{f + 1}. Feature {indices[f]}: {feature_importances[indices[f]]}\")"
   ]
  },
  {
   "cell_type": "code",
   "execution_count": null,
   "id": "ca84c826",
   "metadata": {},
   "outputs": [],
   "source": []
  }
 ],
 "metadata": {
  "kernelspec": {
   "display_name": "Python 3 (ipykernel)",
   "language": "python",
   "name": "python3"
  },
  "language_info": {
   "codemirror_mode": {
    "name": "ipython",
    "version": 3
   },
   "file_extension": ".py",
   "mimetype": "text/x-python",
   "name": "python",
   "nbconvert_exporter": "python",
   "pygments_lexer": "ipython3",
   "version": "3.9.13"
  }
 },
 "nbformat": 4,
 "nbformat_minor": 5
}
